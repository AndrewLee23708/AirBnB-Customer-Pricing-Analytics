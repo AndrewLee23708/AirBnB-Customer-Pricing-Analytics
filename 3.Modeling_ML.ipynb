{
 "cells": [
  {
   "cell_type": "markdown",
   "metadata": {},
   "source": [
    "###  Modeling\n",
    "- [3.1 Overview](#3_1)\n",
    "- [3.2 Loading and Imports](#3_2)\n",
    "- [3.3 Preprocessing: Train Test Split](#3_3)\n",
    "- [3.4 Modeling](#3_4)\n",
    "  - [3.4.1 Regression](#3_4_1)\n",
    "  - [3.4.2 KNN ](#3_4_2)\n",
    "  - [3.4.3 SVC](#4_4_3)\n",
    "- [3.5 Summary](#3_5)"
   ]
  },
  {
   "cell_type": "markdown",
   "metadata": {},
   "source": [
    "#### 3.1 Overview <a id = \"3_1\"></a>\n",
    "- Are there enough datapoints for each zipcode?"
   ]
  },
  {
   "cell_type": "markdown",
   "metadata": {},
   "source": [
    "The goal for this is to see if we can establish a good model to predict prices\n"
   ]
  },
  {
   "cell_type": "markdown",
   "metadata": {},
   "source": [
    "### 3.2 Loading and Imports  <a id = \"3_2\"></a>\n"
   ]
  },
  {
   "cell_type": "code",
   "execution_count": 12,
   "metadata": {},
   "outputs": [],
   "source": [
    "import pandas as pd\n",
    "import numpy as np\n",
    "import matplotlib.pyplot as plt\n",
    "from sklearn.model_selection import train_test_split\n",
    "from sklearn.preprocessing import LabelEncoder\n",
    "from sklearn.preprocessing import StandardScaler, OneHotEncoder, LabelEncoder\n",
    "from sklearn.compose import ColumnTransformer\n",
    "from sklearn.impute import SimpleImputer\n",
    "from sklearn.pipeline import Pipeline"
   ]
  },
  {
   "cell_type": "code",
   "execution_count": 13,
   "metadata": {},
   "outputs": [
    {
     "data": {
      "text/plain": [
       "Index(['neighbourhood_cleansed', 'price', 'latitude', 'longitude', 'room_type',\n",
       "       'property_type', 'accommodates', 'bedrooms', 'beds', 'bathrooms',\n",
       "       'amenities', 'host_is_superhost', 'neighbourhood_group_cleansed',\n",
       "       'calculated_host_listings_count', 'zip_code', 'total_population',\n",
       "       'median_income', 'median_rent', 'median_home_value', 'vacant_units',\n",
       "       'total_units', 'avg_commute_time', 'median_age', 'non_hispanic_white',\n",
       "       'hispanic_population', 'per_capita_income', 'poverty_count',\n",
       "       'median_year_built', 'rent_burden_30_50', 'total_housing_units',\n",
       "       'bachelors_degree', 'workers_public_transit', 'vehicles_available'],\n",
       "      dtype='object')"
      ]
     },
     "execution_count": 13,
     "metadata": {},
     "output_type": "execute_result"
    }
   ],
   "source": [
    "df = pd.read_csv('modeling.csv')\n",
    "df.columns"
   ]
  },
  {
   "cell_type": "markdown",
   "metadata": {},
   "source": [
    "### 3.3 Preprocessing <a id = \"3_3\"></a>"
   ]
  },
  {
   "cell_type": "code",
   "execution_count": 16,
   "metadata": {},
   "outputs": [],
   "source": [
    "X = df.drop(columns=['price'])  \n",
    "Y = df['price']   "
   ]
  },
  {
   "cell_type": "code",
   "execution_count": 17,
   "metadata": {},
   "outputs": [
    {
     "name": "stdout",
     "output_type": "stream",
     "text": [
      "X_train shape: (16714, 32)\n",
      "X_test shape: (4179, 32)\n"
     ]
    }
   ],
   "source": [
    "label_encoder = LabelEncoder()\n",
    "X['amenities'] = label_encoder.fit_transform(X['amenities'])\n",
    "\n",
    "# Split the data into training and testing\n",
    "from sklearn.model_selection import train_test_split\n",
    "X_train, X_test, Y_train, Y_test = train_test_split(X, Y, test_size=0.2, random_state=42)\n",
    "\n",
    "# Check the result\n",
    "print(\"X_train shape:\", X_train.shape)\n",
    "print(\"X_test shape:\", X_test.shape)\n"
   ]
  },
  {
   "cell_type": "markdown",
   "metadata": {},
   "source": [
    "### 3.4 Regression"
   ]
  },
  {
   "cell_type": "markdown",
   "metadata": {},
   "source": []
  }
 ],
 "metadata": {
  "kernelspec": {
   "display_name": "base",
   "language": "python",
   "name": "python3"
  },
  "language_info": {
   "codemirror_mode": {
    "name": "ipython",
    "version": 3
   },
   "file_extension": ".py",
   "mimetype": "text/x-python",
   "name": "python",
   "nbconvert_exporter": "python",
   "pygments_lexer": "ipython3",
   "version": "3.12.4"
  }
 },
 "nbformat": 4,
 "nbformat_minor": 2
}
